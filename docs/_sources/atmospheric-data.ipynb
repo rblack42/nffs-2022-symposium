{
 "cells": [
  {
   "cell_type": "markdown",
   "id": "3dca2fd7",
   "metadata": {},
   "source": [
    "# Atmospheric Data\n",
    "\n",
    "Obviously, our models fly through the air. *Computational Fluid Dynamics* studies the motion of a fluid using computers. Air is a fluid, even it that is not obvious. It is a very thin fluid and we need to know a dew fundamental properties of that fluid to do much interesting work. \n",
    "\n",
    "Rather than rely on local measurements of the properties of air, most researchers use a model atmosphere so they can compare results. We will use data from the *1976 Standard Atmospheric Model*, which you can find at [Standard Atmosphere Calculator](https://www.digitaldutch.com/atmoscalc/). The website at that link lets you set your elevation and it presents you with standard values for the important properties we will need.\n",
    "\n",
    "![HAFFA Indoor Site Data](../assets/images/osawatomie-std-atm.png)\n",
    "\n",
    "Notice something important here. Each property has units attached, and it is vital that you make sure your units are set correctly if you are to trust your answers in a computer generated result. *Python* has an interesting way to handle this that we will look at in the next section. \n",
    "\n",
    "I did manage to find some Python code that implements this model, but it is complex and relies on tools the average user will not have installed on their system. For that reason, I copied data from the website and set up a simple *Python* routine that returns five basic properties for any specified elevation:\n",
    "\n",
    "- Temperature\n",
    "- Pressure\n",
    "- Density\n",
    "- Speed of Sound\n",
    "- Dynamic Viscosity\n",
    "\n",
    "In the example that follows, I am instructing *Jupyter* to access my Python code. You can ignore that setup. I will not show the code in this article since space limitations make that impractical. Instead, I will demonstrate how the code works. You can always visit the project repository on *GitHub* to see the actual code."
   ]
  },
  {
   "cell_type": "code",
   "execution_count": 1,
   "id": "e402e31f",
   "metadata": {},
   "outputs": [],
   "source": [
    "import os\n",
    "import sys\n",
    "module_path = os.path.abspath(os.path.join('..'))\n",
    "if module_path not in sys.path:\n",
    "    sys.path.append(module_path)"
   ]
  },
  {
   "cell_type": "markdown",
   "id": "9c9d538d",
   "metadata": {},
   "source": [
    "Now, we can move on to the example:"
   ]
  },
  {
   "cell_type": "code",
   "execution_count": 2,
   "id": "82c6a4a1",
   "metadata": {},
   "outputs": [
    {
     "name": "stdout",
     "output_type": "stream",
     "text": [
      "86.9 ounce / foot ** 3\n"
     ]
    }
   ],
   "source": [
    "from mmflight.atmosphere import StdAtmosphere\n",
    "\n",
    "site_elevation = 869 # feet\n",
    "s = StdAtmosphere()\n",
    "density = s.density(site_elevation)\n",
    "print(density.to('ounces/ft**3'))"
   ]
  },
  {
   "cell_type": "markdown",
   "id": "7e9ca40b",
   "metadata": {},
   "source": [
    "This may look odd to folks who are familiar with programming. Instead of just a pure number, Python returned the number with attached units!. This happened as a result of using the **pint** library which knows all about units and how to convert between them as needed. This will be extremely useful in making sure we get our code working properly!\n",
    "\n",
    "Want to see density n metric units?"
   ]
  },
  {
   "cell_type": "code",
   "execution_count": 4,
   "id": "e5f6683d",
   "metadata": {},
   "outputs": [
    {
     "name": "stdout",
     "output_type": "stream",
     "text": [
      "87000.27919982106 gram / meter ** 3\n"
     ]
    }
   ],
   "source": [
    "print(density.to('gram/meter**3'))"
   ]
  },
  {
   "cell_type": "markdown",
   "id": "52783c0f",
   "metadata": {},
   "source": [
    "I did not need to look up some conversion factor. Python took care of things for me!"
   ]
  }
 ],
 "metadata": {
  "kernelspec": {
   "display_name": "Python 3 (ipykernel)",
   "language": "python",
   "name": "python3"
  },
  "language_info": {
   "codemirror_mode": {
    "name": "ipython",
    "version": 3
   },
   "file_extension": ".py",
   "mimetype": "text/x-python",
   "name": "python",
   "nbconvert_exporter": "python",
   "pygments_lexer": "ipython3",
   "version": "3.9.9"
  },
  "latex_envs": {
   "LaTeX_envs_menu_present": true,
   "autoclose": false,
   "autocomplete": true,
   "bibliofile": "biblio.bib",
   "cite_by": "apalike",
   "current_citInitial": 1,
   "eqLabelWithNumbers": true,
   "eqNumInitial": 1,
   "hotkeys": {
    "equation": "Ctrl-E",
    "itemize": "Ctrl-I"
   },
   "labels_anchors": false,
   "latex_user_defs": false,
   "report_style_numbering": false,
   "user_envs_cfg": false
  },
  "toc": {
   "base_numbering": 1,
   "nav_menu": {},
   "number_sections": true,
   "sideBar": true,
   "skip_h1_title": false,
   "title_cell": "Table of Contents",
   "title_sidebar": "Contents",
   "toc_cell": false,
   "toc_position": {},
   "toc_section_display": true,
   "toc_window_display": false
  },
  "varInspector": {
   "cols": {
    "lenName": 16,
    "lenType": 16,
    "lenVar": 40
   },
   "kernels_config": {
    "python": {
     "delete_cmd_postfix": "",
     "delete_cmd_prefix": "del ",
     "library": "var_list.py",
     "varRefreshCmd": "print(var_dic_list())"
    },
    "r": {
     "delete_cmd_postfix": ") ",
     "delete_cmd_prefix": "rm(",
     "library": "var_list.r",
     "varRefreshCmd": "cat(var_dic_list()) "
    }
   },
   "types_to_exclude": [
    "module",
    "function",
    "builtin_function_or_method",
    "instance",
    "_Feature"
   ],
   "window_display": false
  }
 },
 "nbformat": 4,
 "nbformat_minor": 5
}
