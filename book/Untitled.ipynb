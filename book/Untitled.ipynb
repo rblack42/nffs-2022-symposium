{
 "cells": [
  {
   "cell_type": "markdown",
   "id": "84fe8a16",
   "metadata": {},
   "source": [
    "# Testing"
   ]
  },
  {
   "cell_type": "code",
   "execution_count": 1,
   "id": "339d10c8",
   "metadata": {},
   "outputs": [
    {
     "data": {
      "text/plain": [
       "16.15625"
      ]
     },
     "execution_count": 1,
     "metadata": {},
     "output_type": "execute_result"
    }
   ],
   "source": [
    "wing+area = \n",
    "stab_span = 5 + 7/8\n",
    "stab_center_chord = 1 + 3/4 \n",
    "stab_tip_chord = 1.0\n",
    "\n",
    "stab_area = stab_span * (stab_center_chord + stab_tip_chord)\n",
    "stab_area"
   ]
  },
  {
   "cell_type": "code",
   "execution_count": 2,
   "id": "41b5285b",
   "metadata": {},
   "outputs": [
    {
     "data": {
      "text/plain": [
       "0.5385416666666667"
      ]
     },
     "execution_count": 2,
     "metadata": {},
     "output_type": "execute_result"
    }
   ],
   "source": [
    "wing_area = 30.0\n",
    "PCW = stab_area/wing_area\n",
    "PCW"
   ]
  },
  {
   "cell_type": "code",
   "execution_count": 3,
   "id": "5681566d",
   "metadata": {},
   "outputs": [
    {
     "data": {
      "text/plain": [
       "0.14784936525875556"
      ]
     },
     "execution_count": 3,
     "metadata": {},
     "output_type": "execute_result"
    }
   ],
   "source": [
    "import math\n",
    "\n",
    "stab_tip_elevation = 7 / 8\n",
    "stab_angle = math.atan2(stab_tip_elevation, stab_span)\n",
    "stab_angle"
   ]
  },
  {
   "cell_type": "code",
   "execution_count": 7,
   "id": "6e09bfe1",
   "metadata": {},
   "outputs": [
    {
     "data": {
      "text/plain": [
       "15.979988186403112"
      ]
     },
     "execution_count": 7,
     "metadata": {},
     "output_type": "execute_result"
    }
   ],
   "source": [
    "stab_projected_span = stab_span * math.cos(stab_angle)\n",
    "stab_projected_area = stab_projected_span * (stab_center_chord + stab_tip_chord)\n",
    "stab_projected_area"
   ]
  },
  {
   "cell_type": "code",
   "execution_count": 8,
   "id": "30eb1235",
   "metadata": {},
   "outputs": [
    {
     "data": {
      "text/plain": [
       "0.5326662728801037"
      ]
     },
     "execution_count": 8,
     "metadata": {},
     "output_type": "execute_result"
    }
   ],
   "source": [
    "PCW = stab_projected_area/wing_area\n",
    "PCW"
   ]
  },
  {
   "cell_type": "code",
   "execution_count": 9,
   "id": "46ca8bd6",
   "metadata": {},
   "outputs": [
    {
     "name": "stdout",
     "output_type": "stream",
     "text": [
      "/Users/rblack/_dev/nffs-2022-symposium/book\r\n"
     ]
    }
   ],
   "source": [
    "!pwd"
   ]
  },
  {
   "cell_type": "code",
   "execution_count": 13,
   "id": "7d6cc0a6",
   "metadata": {},
   "outputs": [],
   "source": [
    "import os\n",
    "import yaml\n",
    "cwd = os.getcwd()\n",
    "fn = os.path.join(cwd,'../data','models')\n",
    "mn = os.path.join(fn,'hodson-wart.yml')\n",
    "fin = open(mn)\n",
    "data = yaml.safe_load(fin)"
   ]
  },
  {
   "cell_type": "code",
   "execution_count": 14,
   "id": "94b25010",
   "metadata": {},
   "outputs": [
    {
     "data": {
      "text/plain": [
       "{'name': 'Hodson Wart',\n",
       " 'model': {'wing_area': [30.0, 'inch ** 2'],\n",
       "  'wing_chord': [2.0, 'inches'],\n",
       "  'wing_height': [1.5, 'inches'],\n",
       "  'stab_area': [15.979, 'inches ** 2'],\n",
       "  'model_weight': [1.2, 'grams'],\n",
       "  'ac-wing-to-stab': [13.25, 'inches']}}"
      ]
     },
     "execution_count": 14,
     "metadata": {},
     "output_type": "execute_result"
    }
   ],
   "source": [
    "data"
   ]
  },
  {
   "cell_type": "code",
   "execution_count": null,
   "id": "9fb57416",
   "metadata": {},
   "outputs": [],
   "source": []
  }
 ],
 "metadata": {
  "kernelspec": {
   "display_name": "Python 3 (ipykernel)",
   "language": "python",
   "name": "python3"
  },
  "language_info": {
   "codemirror_mode": {
    "name": "ipython",
    "version": 3
   },
   "file_extension": ".py",
   "mimetype": "text/x-python",
   "name": "python",
   "nbconvert_exporter": "python",
   "pygments_lexer": "ipython3",
   "version": "3.9.9"
  },
  "latex_envs": {
   "LaTeX_envs_menu_present": true,
   "autoclose": false,
   "autocomplete": true,
   "bibliofile": "biblio.bib",
   "cite_by": "apalike",
   "current_citInitial": 1,
   "eqLabelWithNumbers": true,
   "eqNumInitial": 1,
   "hotkeys": {
    "equation": "Ctrl-E",
    "itemize": "Ctrl-I"
   },
   "labels_anchors": false,
   "latex_user_defs": false,
   "report_style_numbering": false,
   "user_envs_cfg": false
  },
  "toc": {
   "base_numbering": 1,
   "nav_menu": {},
   "number_sections": true,
   "sideBar": true,
   "skip_h1_title": false,
   "title_cell": "Table of Contents",
   "title_sidebar": "Contents",
   "toc_cell": false,
   "toc_position": {},
   "toc_section_display": true,
   "toc_window_display": false
  },
  "varInspector": {
   "cols": {
    "lenName": 16,
    "lenType": 16,
    "lenVar": 40
   },
   "kernels_config": {
    "python": {
     "delete_cmd_postfix": "",
     "delete_cmd_prefix": "del ",
     "library": "var_list.py",
     "varRefreshCmd": "print(var_dic_list())"
    },
    "r": {
     "delete_cmd_postfix": ") ",
     "delete_cmd_prefix": "rm(",
     "library": "var_list.r",
     "varRefreshCmd": "cat(var_dic_list()) "
    }
   },
   "types_to_exclude": [
    "module",
    "function",
    "builtin_function_or_method",
    "instance",
    "_Feature"
   ],
   "window_display": false
  }
 },
 "nbformat": 4,
 "nbformat_minor": 5
}
